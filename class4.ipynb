{
  "nbformat": 4,
  "nbformat_minor": 0,
  "metadata": {
    "colab": {
      "provenance": [],
      "authorship_tag": "ABX9TyMqPlk04Q0qbDb9GJ1fVx2D",
      "include_colab_link": true
    },
    "kernelspec": {
      "name": "python3",
      "display_name": "Python 3"
    },
    "language_info": {
      "name": "python"
    }
  },
  "cells": [
    {
      "cell_type": "markdown",
      "metadata": {
        "id": "view-in-github",
        "colab_type": "text"
      },
      "source": [
        "<a href=\"https://colab.research.google.com/github/simplegithubr/Assignment-3-Diamond-Pattern/blob/main/class4.ipynb\" target=\"_parent\"><img src=\"https://colab.research.google.com/assets/colab-badge.svg\" alt=\"Open In Colab\"/></a>"
      ]
    },
    {
      "cell_type": "markdown",
      "source": [
        "Assignment 3: Diamond Pattern"
      ],
      "metadata": {
        "id": "hVhrVl6f4cfD"
      }
    },
    {
      "cell_type": "code",
      "execution_count": 5,
      "metadata": {
        "colab": {
          "base_uri": "https://localhost:8080/"
        },
        "id": "F50AEZ972gaW",
        "outputId": "6aa9e145-e707-4b64-fde0-2f57d6e43116"
      },
      "outputs": [
        {
          "output_type": "stream",
          "name": "stdout",
          "text": [
            "    *\n",
            "   ***\n",
            "  *****\n",
            " *******\n",
            "*********\n",
            " *******\n",
            "  *****\n",
            "   ***\n",
            "    *\n"
          ]
        }
      ],
      "source": [
        "rows = 5\n",
        "for i in range(rows):\n",
        "  spaces = ' ' *(rows - i - 1)\n",
        "  stars = '*' *(2 * i +1)\n",
        "  print(spaces + stars)\n",
        "for i in range(rows - 2, -1, -1):\n",
        "   spaces = ' ' *(rows - i - 1)\n",
        "   stars = '*' *(2 * i +1)\n",
        "   print(spaces + stars)"
      ]
    }
  ]
}